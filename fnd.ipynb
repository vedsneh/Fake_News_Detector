{
 "cells": [
  {
   "cell_type": "code",
   "execution_count": 1,
   "id": "1f913da4-ca35-4160-ae83-71ec85d14353",
   "metadata": {},
   "outputs": [
    {
     "name": "stdout",
     "output_type": "stream",
     "text": [
      "\n",
      "✅ Accuracy: 99.48 %\n",
      "\n",
      "📊 Classification Report:\n",
      "               precision    recall  f1-score   support\n",
      "\n",
      "        FAKE       0.99      1.00      1.00      4710\n",
      "        REAL       1.00      0.99      0.99      4270\n",
      "\n",
      "    accuracy                           0.99      8980\n",
      "   macro avg       0.99      0.99      0.99      8980\n",
      "weighted avg       0.99      0.99      0.99      8980\n",
      "\n",
      "\n",
      "✅ Model, vectorizer, and label encoder saved!\n"
     ]
    }
   ],
   "source": [
    "import pandas as pd\n",
    "from sklearn.model_selection import train_test_split\n",
    "from sklearn.feature_extraction.text import CountVectorizer\n",
    "from sklearn.linear_model import PassiveAggressiveClassifier\n",
    "from sklearn.preprocessing import LabelEncoder\n",
    "from sklearn.metrics import classification_report, accuracy_score\n",
    "import joblib\n",
    "\n",
    "# Step 1: Load and label data\n",
    "fake_df = pd.read_csv(\"Fake.csv\")\n",
    "real_df = pd.read_csv(\"True.csv\")\n",
    "\n",
    "fake_df[\"label\"] = \"FAKE\"\n",
    "real_df[\"label\"] = \"REAL\"\n",
    "\n",
    "# Combine title and text\n",
    "fake_df[\"content\"] = fake_df[\"title\"] + \" \" + fake_df[\"text\"]\n",
    "real_df[\"content\"] = real_df[\"title\"] + \" \" + real_df[\"text\"]\n",
    "\n",
    "# Step 2: Merge and shuffle\n",
    "df = pd.concat([fake_df[[\"content\", \"label\"]], real_df[[\"content\", \"label\"]]])\n",
    "df.dropna(inplace=True)\n",
    "df = df.sample(frac=1, random_state=42).reset_index(drop=True)\n",
    "\n",
    "# Step 3: Label encoding\n",
    "le = LabelEncoder()\n",
    "df[\"encoded_label\"] = le.fit_transform(df[\"label\"])  # 0 = FAKE, 1 = REAL\n",
    "\n",
    "# Step 4: Split\n",
    "X_train, X_test, y_train, y_test = train_test_split(\n",
    "    df[\"content\"], df[\"encoded_label\"], test_size=0.2, random_state=42\n",
    ")\n",
    "\n",
    "# Step 5: CountVectorizer\n",
    "vectorizer = CountVectorizer(stop_words=\"english\", ngram_range=(1, 2), min_df=3)\n",
    "X_train_vec = vectorizer.fit_transform(X_train)\n",
    "X_test_vec = vectorizer.transform(X_test)\n",
    "\n",
    "# Step 6: Train PassiveAggressive model\n",
    "model = PassiveAggressiveClassifier(max_iter=1000)\n",
    "model.fit(X_train_vec, y_train)\n",
    "\n",
    "# Step 7: Evaluate\n",
    "y_pred = model.predict(X_test_vec)\n",
    "print(\"\\n✅ Accuracy:\", round(accuracy_score(y_test, y_pred) * 100, 2), \"%\")\n",
    "print(\"\\n📊 Classification Report:\\n\", classification_report(y_test, y_pred, target_names=le.classes_))\n",
    "\n",
    "# Step 8: Save model\n",
    "joblib.dump(model, \"model.pkl\")\n",
    "joblib.dump(vectorizer, \"vectorizer.pkl\")\n",
    "joblib.dump(le, \"label_encoder.pkl\")\n",
    "print(\"\\n✅ Model, vectorizer, and label encoder saved!\")\n"
   ]
  },
  {
   "cell_type": "code",
   "execution_count": null,
   "id": "83362081-cec0-409e-b064-077b74e73cbb",
   "metadata": {},
   "outputs": [],
   "source": []
  }
 ],
 "metadata": {
  "kernelspec": {
   "display_name": "Python 3 (ipykernel)",
   "language": "python",
   "name": "python3"
  },
  "language_info": {
   "codemirror_mode": {
    "name": "ipython",
    "version": 3
   },
   "file_extension": ".py",
   "mimetype": "text/x-python",
   "name": "python",
   "nbconvert_exporter": "python",
   "pygments_lexer": "ipython3",
   "version": "3.13.2"
  }
 },
 "nbformat": 4,
 "nbformat_minor": 5
}
